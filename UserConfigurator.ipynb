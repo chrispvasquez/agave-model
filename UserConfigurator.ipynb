{
 "cells": [
  {
   "cell_type": "markdown",
   "metadata": {},
   "source": [
    "# CMR User Configurator\n",
    "\n",
    "To use this system with its default settings, you will need an account from TACC. If you don't already have a TACC login, please go there now and sign up.\n",
    "\n",
    "The simplest way to use the User Configurator for the Coastal Model Repository (CMR), is to execute the cells below, one at a time."
   ]
  },
  {
   "cell_type": "code",
   "execution_count": 1,
   "metadata": {},
   "outputs": [],
   "source": [
    "from setvar import *\n",
    "import os, re, sys"
   ]
  },
  {
   "cell_type": "code",
   "execution_count": 2,
   "metadata": {},
   "outputs": [
    {
     "name": "stdout",
     "output_type": "stream",
     "text": [
      "AGAVE_JSON_PARSER=jq\n",
      "PATH=/usr/local/cli/bin:/usr/bin:/bin:/usr/sbin:/usr/local/sbin:/sbin\n",
      "AGAVE_TENANTS_API_BASEURL=https://api.tacc.utexas.edu/tenants\n"
     ]
    }
   ],
   "source": [
    "# Some settings needed by the system\n",
    "setvar(\"\"\"\n",
    "AGAVE_JSON_PARSER=jq\n",
    "PATH=/usr/local/cli/bin:/usr/bin:/bin:/usr/sbin:/usr/local/sbin:/sbin\n",
    "AGAVE_TENANTS_API_BASEURL=https://api.tacc.utexas.edu/tenants\n",
    "\"\"\")"
   ]
  },
  {
   "cell_type": "markdown",
   "metadata": {},
   "source": [
    "## Step 1: Choose your tenant\n",
    "The tenant is the system that manages your login credentials and Agave data. You\n",
    "can choose any of the systems below. By default, this notebook uses tacc.prod."
   ]
  },
  {
   "cell_type": "code",
   "execution_count": 3,
   "metadata": {},
   "outputs": [
    {
     "name": "stdout",
     "output_type": "stream",
     "text": [
      "ID                   NAME                                     URL                                               \r\n",
      "araport.org          Araport                                  https://api.araport.org/                          \r\n",
      "agave.prod           Agave Public Tenant                      https://public.agaveapi.co/                       \r\n",
      "portals              Portals Tenant                           https://portals-api.tacc.utexas.edu/              \r\n",
      "sgci                 Science Gateways Community Institute     https://sgci.tacc.cloud/                          \r\n",
      "bridge               Bridge                                   https://api.bridge.tacc.cloud/                    \r\n",
      "designsafe           DesignSafe                               https://agave.designsafe-ci.org/                  \r\n",
      "sd2e                 SD2E Tenant                              https://api.sd2e.org/                             \r\n",
      "tacc.prod            TACC                                     https://api.tacc.utexas.edu/                      \r\n",
      "vdjserver.org        VDJ Server                               https://vdj-agave-api.tacc.utexas.edu/            \r\n",
      "iplantc.org          CyVerse Science APIs                     https://agave.iplantc.org/                        \r\n",
      "irec                 iReceptor                                https://irec.tenants.prod.tacc.cloud/             \r\n",
      "3dem                 3dem Tenant                              https://api.3dem.org/                             \r\n"
     ]
    }
   ],
   "source": [
    "# In case you don't want to use tacc.prod, here is\n",
    "# a list of possible Agave tenants.\n",
    "!tenants-list"
   ]
  },
  {
   "cell_type": "markdown",
   "metadata": {},
   "source": [
    "#### Edit this next line to change the tenant."
   ]
  },
  {
   "cell_type": "code",
   "execution_count": 4,
   "metadata": {},
   "outputs": [],
   "source": [
    "# Set the tenant.\n",
    "#!tenants-init -t tacc.prod"
   ]
  },
  {
   "cell_type": "markdown",
   "metadata": {},
   "source": [
    "## Step 2: Supply your password"
   ]
  },
  {
   "cell_type": "code",
   "execution_count": 5,
   "metadata": {},
   "outputs": [
    {
     "name": "stdout",
     "output_type": "stream",
     "text": [
      "Password or secret: AGAVE_PASSWD\n",
      "Reading file `AGAVE_PASSWD.txt'\n"
     ]
    }
   ],
   "source": [
    "# Run the cell below to load your AGAVE_PASSWD\n",
    "# (which will be your TACC password if you use\n",
    "# the tacc.prod tenant, which is the default).\n",
    "# By default, this will be the password stored\n",
    "# in AGAVE_PASSWD.txt. If that file does not exist\n",
    "# you will be prompted for your password.\n",
    "#\n",
    "# If, for some reason, that password is incorrect,\n",
    "# you can get the system to prompt you again by\n",
    "# uncommenting the next line and removing the file.\n",
    "#os.remove(\"AGAVE_PASSWD.txt\")\n",
    "readpass(\"AGAVE_PASSWD\")"
   ]
  },
  {
   "cell_type": "markdown",
   "metadata": {},
   "source": [
    "## Step 3: Supply your Username and Email"
   ]
  },
  {
   "cell_type": "code",
   "execution_count": 6,
   "metadata": {},
   "outputs": [
    {
     "name": "stdout",
     "output_type": "stream",
     "text": [
      "AGAVE_USERNAME=ysboss\n",
      "EMAIL=syuan@cct.lsu.edu\n"
     ]
    }
   ],
   "source": [
    "# Fill in your Agave username to the right of\n",
    "# the eqauls sign. (This will be your TACC username\n",
    "# if you are using the tacc.prod tenant, which is\n",
    "# the default)\n",
    "setvar(\"\"\"\n",
    "AGAVE_USERNAME=ysboss\n",
    "EMAIL=syuan@cct.lsu.edu\n",
    "\"\"\")"
   ]
  },
  {
   "cell_type": "markdown",
   "metadata": {},
   "source": [
    "## Step 4: Supply the name of the Agave Application you will be using.\n",
    "You should obtain this from someone who as set up the CMR using the\n",
    "ResourceConcifguator. By default, jobs will execute on shelob.hpc.lsu.edu\n",
    "and you will need to contact sbrandt@cct.lsu.edu to gain permission to\n",
    "run jobs."
   ]
  },
  {
   "cell_type": "markdown",
   "metadata": {},
   "source": [
    "## Step 5: Supply your PushBullet Token\n",
    "Please go to https://www.pushbullet.com/ to obtain your token."
   ]
  },
  {
   "cell_type": "code",
   "execution_count": 7,
   "metadata": {},
   "outputs": [
    {
     "name": "stdout",
     "output_type": "stream",
     "text": [
      "Password or secret: PBTOK\n",
      "Reading file `PBTOK.txt'\n"
     ]
    }
   ],
   "source": [
    "# Optional:\n",
    "# The value of your PushBullet token goes here.\n",
    "# As with the AGAVE_PASSWD entry above, please\n",
    "# delete it if you wish to use PushBullet to\n",
    "# receive notifications.\n",
    "#\n",
    "#os.remove(\"PBTOK.txt\")\n",
    "readpass(\"PBTOK\")"
   ]
  },
  {
   "cell_type": "markdown",
   "metadata": {},
   "source": [
    "# END DATA ENTRY\n",
    "If you have entered the data above correctly,\n",
    "you should not need to edit anything below\n",
    "this line. You will, however, need to execute\n",
    "the cells below."
   ]
  },
  {
   "cell_type": "code",
   "execution_count": 8,
   "metadata": {},
   "outputs": [
    {
     "name": "stdout",
     "output_type": "stream",
     "text": [
      "CLIENT_NAME=user-ysboss\n",
      "Loading user-ysboss for ysboss from tacc.prod\n",
      "Refreshing access token for user-ysboss...\n",
      "30ef87dcc1242913df87e7ea2cf4aa6\n"
     ]
    }
   ],
   "source": [
    "# Some commands to initialize your access to the system\n",
    "setvar(\"CLIENT_NAME=user-${AGAVE_USERNAME}\")\n",
    "#!clients-delete -u $AGAVE_USERNAME -p $AGAVE_PASSWD $CLIENT_NAME\n",
    "#!clients-create -p $AGAVE_PASSWD -S -N $CLIENT_NAME -u $AGAVE_USERNAME\n",
    "#!auth-tokens-create -u $AGAVE_USERNAME -p $AGAVE_PASSWD\n",
    "!auth-session-init -t tacc.prod -u $AGAVE_USERNAME -p $AGAVE_PASSWD -N $CLIENT_NAME"
   ]
  },
  {
   "cell_type": "code",
   "execution_count": 9,
   "metadata": {},
   "outputs": [
    {
     "name": "stdout",
     "output_type": "stream",
     "text": [
      "Refreshing access token...\n",
      "30ef87dcc1242913df87e7ea2cf4aa6\n",
      "New token expires: Sun Oct 6 23:43:47 CDT 2019\n",
      "No handlers could be found for logger \"agavepy.utils.save_configs\"\n",
      "cmd: apps-list ...\n",
      "cmd: apps-list ...\n",
      "cmd: apps-list ...\n",
      "cmd: apps-list ...\n",
      "cmd: apps-list ...\n",
      "Applications you have access to:\n",
      "  - crcollaboratory-tapis-shelob-ysboss-2.0\n",
      "  - crcollaboratory-shelob-ysboss-2.0\n",
      "  - crcollaboratory-shelob-tg457049-2.0\n",
      "  - crcollaboratory-melete05-tg457049-2.0\n",
      "  - crcollaboratory-spine-tg457049-2.0\n",
      "\n",
      "Applications you don't have access to:\n",
      "  None\n",
      "\n",
      "Please contact sbrandt@cct.lsu.edu for questions\n"
     ]
    }
   ],
   "source": [
    "# Obtain the list of systems\n",
    "!auth-tokens-refresh\n",
    "import systemdata\n",
    "systemdata.display()"
   ]
  },
  {
   "cell_type": "code",
   "execution_count": 10,
   "metadata": {},
   "outputs": [
    {
     "name": "stdout",
     "output_type": "stream",
     "text": [
      "\u001b[1;0mcrcollaboratory-tapis-shelob-ysboss-2.0\r\n",
      "crcollaboratory-shelob-ysboss-2.0\r\n",
      "tapis.app.imageclassify-1.0u3\r\n",
      "tapis.app.imageclassify-1.0u2\r\n",
      "tapis.app.imageclassify-1.0u1\r\n",
      "crcollaboratory-shelob-tg457049-2.0\r\n",
      "crcollaboratory-melete05-tg457049-2.0\r\n",
      "crcollaboratory-spine-tg457049-2.0\r\n",
      "vina-ls5-1.1.2u3\r\n",
      "vina-ls5-1.1.2u2\r\n",
      "vina-ls5-1.1.2u1\r\n",
      "opensees-2.4.4-slurm-2.4.4.5804u1\r\n",
      "opensees-fork-2.4.4.5804u2\r\n",
      "opensees-2.4.4.5804u1\r\n",
      "opensees-fork-2.4.4.5804u1\r\n",
      "vina-lonestar-1.1.2u4\r\n",
      "vina-lonestar-1.1.2u3\r\n",
      "vina-lonestar-1.1.2u2\r\n",
      "pdb2pdbqt-1.00u1\u001b[0m\r\n"
     ]
    }
   ],
   "source": [
    "!apps-list"
   ]
  },
  {
   "cell_type": "code",
   "execution_count": null,
   "metadata": {},
   "outputs": [],
   "source": []
  }
 ],
 "metadata": {
  "kernelspec": {
   "display_name": "Python 3",
   "language": "python",
   "name": "python3"
  },
  "language_info": {
   "codemirror_mode": {
    "name": "ipython",
    "version": 3
   },
   "file_extension": ".py",
   "mimetype": "text/x-python",
   "name": "python",
   "nbconvert_exporter": "python",
   "pygments_lexer": "ipython3",
   "version": "3.6.8"
  }
 },
 "nbformat": 4,
 "nbformat_minor": 2
}
