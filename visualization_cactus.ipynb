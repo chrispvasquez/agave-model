{
 "cells": [
  {
   "cell_type": "markdown",
   "metadata": {},
   "source": [
    "# Basic Plotting for Cactus"
   ]
  },
  {
   "cell_type": "code",
   "execution_count": null,
   "metadata": {},
   "outputs": [],
   "source": [
    "import os, sys, re\n",
    "import numpy as np\n",
    "print(\"Cactus files to visualize:\")\n",
    "for file in os.listdir(\"output\"):\n",
    "    if re.match(r'.*\\.xy\\.asc',file):\n",
    "        print(\" \",file)"
   ]
  },
  {
   "cell_type": "code",
   "execution_count": null,
   "metadata": {},
   "outputs": [],
   "source": [
    "import matplotlib.pyplot as plt\n",
    "print(\"Color Schemes:\")\n",
    "for cm in dir(plt.cm):\n",
    "    if hasattr(getattr(plt.cm,cm),'is_gray'):\n",
    "        print(cm,end=' ')\n",
    "print()\n",
    "\n",
    "# Set the color scheme you wish to use below...\n",
    "global_cmap = plt.cm.Blues"
   ]
  },
  {
   "cell_type": "code",
   "execution_count": null,
   "metadata": {},
   "outputs": [],
   "source": [
    "# fname = file name\n",
    "# tm = time step\n",
    "\n",
    "def colorplot(fname,tm):\n",
    "    data = np.genfromtxt(\"output/\"+fname)\n",
    "    time_steps = np.unique(data[:,0])\n",
    "    if tm not in time_steps:\n",
    "        print(\"Invalid Time Step: \",tm)\n",
    "        print(\"Valid Time Steps:\",time_steps[0],\"...\",time_steps[-1])\n",
    "        return\n",
    "    data = data[data[:,0] == tm,:]\n",
    "    x = np.unique(data[:,5])\n",
    "    xmin, xmax = np.min(x), np.max(x)\n",
    "    y = np.unique(data[:,6])\n",
    "    ymin, ymax = np.min(y), np.max(y)\n",
    "    pltdata = data[:,-1].reshape(len(y),len(x))\n",
    "    ax = plt.gca()\n",
    "    # Note that indexing with ::-1 reverses the order of the index\n",
    "    # The extent provides data to plot the labels\n",
    "    im = ax.imshow(pltdata[::-1,:],extent=[xmin,xmax,ymin,ymax],cmap=global_cmap)\n",
    "    # Show the color bar\n",
    "    ax.set_xlabel(\"X-axis\")\n",
    "    ax.set_ylabel(\"Y-axis\")\n",
    "    ax.set_title(\"file={f}, time={t}\".format(f=fname,t=tm))\n",
    "    plt.colorbar(im)\n",
    "    plt.show()\n",
    "    \n",
    "colorplot(\"eta.xy.asc\",tm=1)\n",
    "colorplot(\"eta.xy.asc\",tm=3)"
   ]
  },
  {
   "cell_type": "code",
   "execution_count": null,
   "metadata": {},
   "outputs": [],
   "source": [
    "from mpl_toolkits.mplot3d import Axes3D\n",
    "\n",
    "# Your basic surface plot\n",
    "def surfaceplot(fname,tm):\n",
    "    data = np.genfromtxt(\"output/\"+fname)\n",
    "    time_steps = np.unique(data[:,0])\n",
    "    if tm not in time_steps:\n",
    "        print(\"Invalid Time Step: \",tm)\n",
    "        print(\"Valid Time Steps:\",time_steps[0],\"...\",time_steps[-1])\n",
    "        return\n",
    "    data = data[data[:,0] == tm,:]\n",
    "    nx = len(np.unique(data[:,5]))\n",
    "    ny = len(np.unique(data[:,6]))\n",
    "    x = data[:,5].reshape(ny,nx)\n",
    "    y = data[:,6].reshape(ny,nx)\n",
    "    pltdata = data[:,-1].reshape(ny,nx)\n",
    "    ax = plt.gca(projection='3d')\n",
    "    ax.plot_surface(x,y,pltdata,cmap=global_cmap)\n",
    "    plt.show()\n",
    "    \n",
    "surfaceplot(\"eta.xy.asc\",1)"
   ]
  },
  {
   "cell_type": "code",
   "execution_count": null,
   "metadata": {},
   "outputs": [],
   "source": [
    "def vectorplot(tm):\n",
    "    udata = np.genfromtxt(\"output/u.xy.asc\")\n",
    "    vdata = np.genfromtxt(\"output/v.xy.asc\")\n",
    "    time_steps = np.unique(udata[:,0])\n",
    "    if tm not in time_steps:\n",
    "        print(\"Invalid Time Step: \",tm)\n",
    "        print(\"Valid Time Steps:\",time_steps[0],\"...\",time_steps[-1])\n",
    "        return\n",
    "    udata = udata[udata[:,0] == tm,:]\n",
    "    vdata = vdata[vdata[:,0] == tm,:]\n",
    "    nx = len(np.unique(udata[:,5]))\n",
    "    ny = len(np.unique(udata[:,6]))\n",
    "    x = udata[:,5].reshape(ny,nx)\n",
    "    y = udata[:,6].reshape(ny,nx)\n",
    "    u = udata[:,-1].reshape(ny,nx)\n",
    "    v = vdata[:,-1].reshape(ny,nx)\n",
    "    c = np.abs(np.arctan2(u,v))\n",
    "    plt.figure(figsize=(18, 16), dpi= 80)\n",
    "    plt.quiver(x,y,u,v,c,scale=2)\n",
    "\n",
    "vectorplot(1)"
   ]
  },
  {
   "cell_type": "code",
   "execution_count": null,
   "metadata": {},
   "outputs": [],
   "source": []
  }
 ],
 "metadata": {
  "kernelspec": {
   "display_name": "Python 3",
   "language": "python",
   "name": "python3"
  },
  "language_info": {
   "codemirror_mode": {
    "name": "ipython",
    "version": 3
   },
   "file_extension": ".py",
   "mimetype": "text/x-python",
   "name": "python",
   "nbconvert_exporter": "python",
   "pygments_lexer": "ipython3",
   "version": "3.6.7"
  }
 },
 "nbformat": 4,
 "nbformat_minor": 2
}
