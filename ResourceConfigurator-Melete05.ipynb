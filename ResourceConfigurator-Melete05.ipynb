{
 "cells": [
  {
   "cell_type": "markdown",
   "metadata": {},
   "source": [
    "# CMR Resource Configurator"
   ]
  },
  {
   "cell_type": "code",
   "execution_count": 1,
   "metadata": {},
   "outputs": [],
   "source": [
    "from setvar import *"
   ]
  },
  {
   "cell_type": "code",
   "execution_count": 2,
   "metadata": {},
   "outputs": [],
   "source": [
    "import re, os, sys"
   ]
  },
  {
   "cell_type": "code",
   "execution_count": 3,
   "metadata": {},
   "outputs": [
    {
     "name": "stdout",
     "output_type": "stream",
     "text": [
      "PATH=/usr/local/cli/bin:/usr/bin:/bin:/usr/sbin:/usr/local/sbin:/sbin\n"
     ]
    }
   ],
   "source": [
    "setvar(\"PATH=/usr/local/cli/bin:/usr/bin:/bin:/usr/sbin:/usr/local/sbin:/sbin\")"
   ]
  },
  {
   "cell_type": "markdown",
   "metadata": {},
   "source": [
    "## Step 1: Select your tenant"
   ]
  },
  {
   "cell_type": "code",
   "execution_count": 4,
   "metadata": {},
   "outputs": [
    {
     "name": "stdout",
     "output_type": "stream",
     "text": [
      "\u001b[1;0m3dem\r\n",
      "agave.prod\r\n",
      "araport.org\r\n",
      "designsafe\r\n",
      "iplantc.org\r\n",
      "irec\r\n",
      "portals\r\n",
      "sd2e\r\n",
      "sgci\r\n",
      "tacc.prod\r\n",
      "vdjserver.org\u001b[0m\r\n"
     ]
    }
   ],
   "source": [
    "!tenants-list"
   ]
  },
  {
   "cell_type": "code",
   "execution_count": 5,
   "metadata": {},
   "outputs": [
    {
     "name": "stdout",
     "output_type": "stream",
     "text": [
      "\u001b[1;0mYou are now configured to interact with the APIs at https://api.tacc.utexas.edu/\u001b[0m\r\n"
     ]
    }
   ],
   "source": [
    "!tenants-init -t tacc.prod"
   ]
  },
  {
   "cell_type": "markdown",
   "metadata": {},
   "source": [
    "## Step 2: Set your Agave Username and Password"
   ]
  },
  {
   "cell_type": "code",
   "execution_count": 6,
   "metadata": {},
   "outputs": [
    {
     "name": "stdout",
     "output_type": "stream",
     "text": [
      "AGAVE_USERNAME=tg457049\n"
     ]
    }
   ],
   "source": [
    "setvar(\"AGAVE_USERNAME=tg457049\")"
   ]
  },
  {
   "cell_type": "code",
   "execution_count": 7,
   "metadata": {},
   "outputs": [
    {
     "name": "stdout",
     "output_type": "stream",
     "text": [
      "Password or secret: AGAVE_PASSWD\n",
      "Reading file `AGAVE_PASSWD.txt'\n"
     ]
    }
   ],
   "source": [
    "#os.remove(\"AGAVE_PASSWD.txt\")\n",
    "readpass(\"AGAVE_PASSWD\")"
   ]
  },
  {
   "cell_type": "markdown",
   "metadata": {},
   "source": [
    "## Step 3: Provide Information about the Resource\n",
    "Here you should supply the fully qualified domain name\n",
    "of the machine, the port it will be accessed on, the\n",
    "user that will be accessing the machine, etc."
   ]
  },
  {
   "cell_type": "code",
   "execution_count": 8,
   "metadata": {},
   "outputs": [
    {
     "name": "stdout",
     "output_type": "stream",
     "text": [
      "MACHINE_USERNAME=funwave\n",
      "MACHINE_FULL=melete05.cct.lsu.edu\n",
      "PORT=2525\n",
      "ALLOCATION=hpc_startup_funwave\n",
      "BASE_APP_NAME=crcollaboratory\n",
      "WORK_DIR=/home/funwave\n",
      "HOME_DIR=/home/funwave\n",
      "SCRATCH_DIR=/home/funwave\n",
      "DEPLOYMENT_PATH=agave-deployment\n",
      "AGAVE_JSON_PARSER=jq\n"
     ]
    }
   ],
   "source": [
    "setvar(\"\"\"\n",
    "MACHINE_USERNAME=funwave\n",
    "MACHINE_FULL=melete05.cct.lsu.edu\n",
    "PORT=2525\n",
    "ALLOCATION=hpc_startup_funwave\n",
    "BASE_APP_NAME=crcollaboratory\n",
    "WORK_DIR=/home/${MACHINE_USERNAME}\n",
    "HOME_DIR=/home/${MACHINE_USERNAME}\n",
    "SCRATCH_DIR=/home/${MACHINE_USERNAME}\n",
    "DEPLOYMENT_PATH=agave-deployment\n",
    "AGAVE_JSON_PARSER=jq\n",
    "\"\"\")"
   ]
  },
  {
   "cell_type": "markdown",
   "metadata": {},
   "source": [
    "## Step 4: Provide the login credentials"
   ]
  },
  {
   "cell_type": "code",
   "execution_count": 9,
   "metadata": {},
   "outputs": [
    {
     "name": "stdout",
     "output_type": "stream",
     "text": [
      "MACHINE=melete05\n",
      "DOMAIN=cct.lsu.edu\n"
     ]
    }
   ],
   "source": [
    "# Parse out the name of the machine from its domain\n",
    "g = re.match(r'(\\w+)\\.(.*)',os.environ[\"MACHINE_FULL\"])\n",
    "setvar(\"\"\"\n",
    "MACHINE={}\n",
    "DOMAIN={}\n",
    "\"\"\".format(g.group(1),g.group(2)))"
   ]
  },
  {
   "cell_type": "code",
   "execution_count": 10,
   "metadata": {},
   "outputs": [
    {
     "name": "stdout",
     "output_type": "stream",
     "text": [
      "BASE_APP_NAME2=crcollaboratory-melete05-tg457049\n",
      "STORAGE_MACHINE=melete05-storage-tg457049\n",
      "EXEC_MACHINE=melete05-exec-tg457049\n"
     ]
    }
   ],
   "source": [
    "setvar(\"\"\"\n",
    "BASE_APP_NAME2=${BASE_APP_NAME}-${MACHINE}-${AGAVE_USERNAME}\n",
    "STORAGE_MACHINE=${MACHINE}-storage-${AGAVE_USERNAME}\n",
    "EXEC_MACHINE=${MACHINE}-exec-${AGAVE_USERNAME}\n",
    "\"\"\")"
   ]
  },
  {
   "cell_type": "code",
   "execution_count": 11,
   "metadata": {},
   "outputs": [
    {
     "name": "stdout",
     "output_type": "stream",
     "text": [
      "\u001b[1;0mSuccessfully deleted client crcollaboratory-melete05-tg457049\u001b[0m\n",
      "\u001b[1;0m\u001b[1;0mSuccessfully created client crcollaboratory-melete05-tg457049\n",
      "key: M4hDSfokX1dRFdJzCb6U0AtxfVka \n",
      "secret: 6l21b6apuLb9MaNwcUpYYNsf0bUa\u001b[0m\u001b[0m\n",
      "\u001b[1;0mToken for tacc.prod:tg457049 successfully refreshed and cached for 14400 seconds\n",
      "9b85868555bfa049e3096f1e99dbb3\u001b[0m\n"
     ]
    }
   ],
   "source": [
    "!clients-delete -u $AGAVE_USERNAME -p $AGAVE_PASSWD $BASE_APP_NAME2\n",
    "!clients-create -p $AGAVE_PASSWD -S -N $BASE_APP_NAME2 -u $AGAVE_USERNAME\n",
    "!auth-tokens-create -u $AGAVE_USERNAME -p $AGAVE_PASSWD"
   ]
  },
  {
   "cell_type": "code",
   "execution_count": 12,
   "metadata": {},
   "outputs": [
    {
     "name": "stdout",
     "output_type": "stream",
     "text": [
      "Password or secret: MACHINE_PASSWD\n",
      "Reading file `MACHINE_PASSWD.txt'\n"
     ]
    }
   ],
   "source": [
    "#os.remove(\"MACHINE_PASSWD.txt\")\n",
    "readpass(\"MACHINE_PASSWD\")"
   ]
  },
  {
   "cell_type": "code",
   "execution_count": 13,
   "metadata": {},
   "outputs": [
    {
     "name": "stdout",
     "output_type": "stream",
     "text": [
      "Writing file `melete05-storage-tg457049.txt'\n"
     ]
    }
   ],
   "source": [
    "writefile(\"${STORAGE_MACHINE}.txt\",\"\"\"{\n",
    "    \"id\": \"${STORAGE_MACHINE}\",\n",
    "    \"name\": \"${MACHINE} storage (${MACHINE_USERNAME})\",\n",
    "    \"description\": \"The ${MACHINE} computer\",\n",
    "    \"site\": \"${DOMAIN}\",\n",
    "    \"type\": \"STORAGE\",\n",
    "    \"storage\": {\n",
    "       \"host\": \"${MACHINE_FULL}\",\n",
    "       \"port\": ${PORT},\n",
    "       \"protocol\": \"SFTP\",\n",
    "       \"rootDir\": \"/\",\n",
    "       \"homeDir\": \"${HOME_DIR}\",\n",
    "       \"auth\": {\n",
    "           \"username\" : \"${MACHINE_USERNAME}\",\n",
    "           \"password\" : \"${MACHINE_PASSWD}\",\n",
    "           \"type\" : \"PASSWORD\"\n",
    "        }\n",
    "    }\n",
    "}\n",
    "\"\"\")"
   ]
  },
  {
   "cell_type": "code",
   "execution_count": 14,
   "metadata": {},
   "outputs": [
    {
     "name": "stdout",
     "output_type": "stream",
     "text": [
      "\u001b[1;0m\u001b[1;0mSuccessfully added system melete05-storage-tg457049\u001b[0m\u001b[0m\r\n"
     ]
    }
   ],
   "source": [
    "!systems-addupdate -F ${STORAGE_MACHINE}.txt"
   ]
  },
  {
   "cell_type": "markdown",
   "metadata": {},
   "source": [
    "### List files on the STORAGE_MACHINE to ensure access is correctly configured."
   ]
  },
  {
   "cell_type": "code",
   "execution_count": 15,
   "metadata": {},
   "outputs": [
    {
     "name": "stdout",
     "output_type": "stream",
     "text": [
      ".\r\n",
      ".bash_history\r\n",
      ".bash_logout\r\n",
      ".bash_profile\r\n",
      ".bashrc\r\n"
     ]
    }
   ],
   "source": [
    "!files-list -S ${STORAGE_MACHINE} ./ | head -5"
   ]
  },
  {
   "cell_type": "markdown",
   "metadata": {},
   "source": [
    "## Step 5: More Machine Details\n",
    "In order to properly use the execution machine, you will\n",
    "need to provide agave with details about its queuing system\n",
    "as well as the default queue that jobs will be run in. Please\n",
    "edit the next section carefully."
   ]
  },
  {
   "cell_type": "code",
   "execution_count": 21,
   "metadata": {},
   "outputs": [
    {
     "name": "stdout",
     "output_type": "stream",
     "text": [
      "QUEUE=none\n",
      "MAX_TIME=72:00:00\n",
      "NODES=1\n",
      "PROCS=10\n",
      "MAX_JOBS=3\n",
      "Writing file `melete05-exec-tg457049.txt'\n",
      "\u001b[1;0m\u001b[1;0mSuccessfully added system melete05-exec-tg457049\u001b[0m\u001b[0m\n"
     ]
    }
   ],
   "source": [
    "# Configure information about the machine/queue\n",
    "setvar(\"\"\"\n",
    "QUEUE=none\n",
    "MAX_TIME=72:00:00\n",
    "NODES=1\n",
    "PROCS=10\n",
    "MAX_JOBS=3\n",
    "\"\"\")\n",
    "\n",
    "os.environ[\"DIRECTIVES\"]=re.sub(\"\\n\\\\s*\",r\"\\\\n\",\"\"\"\n",
    "#PBS -A ${ALLOCATION}\n",
    "#PBS -l cput=\\${AGAVE_JOB_MAX_RUNTIME}\n",
    "#PBS -l walltime=\\${AGAVE_JOB_MAX_RUNTIME}\n",
    "#PBS -q \\${AGAVE_JOB_BATCH_QUEUE}\n",
    "#PBS -l nodes=\\${AGAVE_JOB_NODE_COUNT}:ppn=16\n",
    "\"\"\".strip())    \n",
    "writefile(\"${EXEC_MACHINE}.txt\",\"\"\"\n",
    "{\n",
    "    \"id\": \"${EXEC_MACHINE}\",\n",
    "    \"name\": \"${MACHINE} (${MACHINE_USERNAME})\",\n",
    "    \"description\": \"The ${MACHINE} computer\",\n",
    "    \"site\": \"${DOMAIN}\",\n",
    "    \"public\": false,\n",
    "    \"status\": \"UP\",\n",
    "    \"type\": \"EXECUTION\",\n",
    "    \"executionType\": \"CLI\",\n",
    "    \"scheduler\" : \"FORK\",\n",
    "    \"environment\": null,\n",
    "    \"scratchDir\" : \"${SCRATCH_DIR}\",\n",
    "    \"queues\": [\n",
    "       {\n",
    "            \"name\": \"${QUEUE}\",\n",
    "            \"default\": true,\n",
    "            \"maxJobs\": ${MAX_JOBS},\n",
    "            \"maxUserJobs\": ${MAX_JOBS},\n",
    "            \"maxNodes\": ${NODES},\n",
    "            \"maxProcessorsPerNode\": ${PROCS},\n",
    "            \"minProcessorsPerNode\": 1,\n",
    "            \"maxRequestedTime\": \"${MAX_TIME}\"\n",
    "        }\n",
    "    ],\n",
    "    \"login\": {\n",
    "        \"auth\": {\n",
    "         \"username\" : \"${MACHINE_USERNAME}\",\n",
    "         \"password\" : \"${MACHINE_PASSWD}\",\n",
    "         \"type\" : \"PASSWORD\"\n",
    "        },\n",
    "        \"host\": \"${MACHINE_FULL}\",\n",
    "        \"port\": ${PORT},\n",
    "        \"protocol\": \"SSH\"\n",
    "    },\n",
    "    \"maxSystemJobs\": 50,\n",
    "    \"maxSystemJobsPerUser\": 50,\n",
    "    \"storage\": {\n",
    "        \"host\": \"${MACHINE_FULL}\",\n",
    "        \"port\": ${PORT},\n",
    "        \"protocol\": \"SFTP\",\n",
    "        \"rootDir\": \"/\",\n",
    "        \"homeDir\": \"${HOME_DIR}\",\n",
    "        \"auth\": {\n",
    "         \"username\" : \"${MACHINE_USERNAME}\",\n",
    "         \"password\" : \"${MACHINE_PASSWD}\",\n",
    "         \"type\" : \"PASSWORD\"\n",
    "        }\n",
    "     }\n",
    "    },\n",
    "    \"workDir\": \"${WORK_DIR}\"\n",
    "}\"\"\")                        \n",
    "\n",
    "!systems-addupdate -F ${EXEC_MACHINE}.txt"
   ]
  },
  {
   "cell_type": "markdown",
   "metadata": {},
   "source": [
    "### List files on the EXEC_MACHINE to ensure access is correctly configured."
   ]
  },
  {
   "cell_type": "code",
   "execution_count": 20,
   "metadata": {},
   "outputs": [
    {
     "name": "stdout",
     "output_type": "stream",
     "text": [
      ".\r\n",
      ".bash_history\r\n",
      ".bash_logout\r\n",
      ".bash_profile\r\n",
      ".bashrc\r\n"
     ]
    }
   ],
   "source": [
    "!files-list -S ${EXEC_MACHINE} ./ | head -5"
   ]
  },
  {
   "cell_type": "markdown",
   "metadata": {},
   "source": [
    "### Create the batch script used to run jobs. This should not need editing."
   ]
  },
  {
   "cell_type": "code",
   "execution_count": 32,
   "metadata": {},
   "outputs": [
    {
     "name": "stdout",
     "output_type": "stream",
     "text": [
      "Writing file `crcollaboratory-shelob-tg457049-wrapper.txt'\n",
      "\u001b[1;0mSuccessfully created folder agave-deployment\u001b[0m\n",
      "\u001b[1;0mSuccessfully created folder inputs\u001b[0m\n",
      "Uploading crcollaboratory-shelob-tg457049-wrapper.txt...\n",
      "######################################################################### 100.0%\n",
      "Writing file `test.txt'\n",
      "\u001b[1;0mSuccessfully created folder agave-deployment\u001b[0m\n",
      "Uploading test.txt...\n",
      "######################################################################### 100.0%\n",
      "Writing file `crcollaboratory-shelob-tg457049.txt'\n",
      "\u001b[1;0m\u001b[1;0mSuccessfully added app crcollaboratory-shelob-tg457049-2.0\u001b[0m\u001b[0m\n",
      "APP_NAME=crcollaboratory-shelob-tg457049-2.0\n",
      "Successfully configured Agave\n"
     ]
    }
   ],
   "source": [
    "writefile(\"${BASE_APP_NAME2}-wrapper.txt\",\"\"\"\n",
    "#!/bin/bash\n",
    "handle_trap() {\n",
    "  rc=\\$?\n",
    "  if [ \"\\$rc\" != 0 ]\n",
    "  then\n",
    "    \\$(\\${AGAVE_JOB_CALLBACK_FAILURE})\n",
    "  fi\n",
    "}\n",
    "\n",
    "trap 'handle_trap' ERR EXIT\n",
    "echo 'running \\${simagename} model'\n",
    "# Setting the x flag will echo every\n",
    "# command onto stderr. This is\n",
    "# for debugging, so we can see what's\n",
    "# going on.\n",
    "set -x\n",
    "set -e\n",
    "echo ==PWD=============\n",
    "# We also print out the execution\n",
    "# directory. Again, for debugging purposes.\n",
    "pwd\n",
    "echo ==JOB=============\n",
    "\n",
    "export NP=\\${AGAVE_JOB_PROCESSORS_PER_NODE}\n",
    "\n",
    "tar xzvf input.tgz\n",
    "\n",
    "mkdir -p output\n",
    "\n",
    "/usr/local/bin/singularity exec --bind \\$PWD:/workdir \\$SING_OPTS /home/sbrandt/images/\\${simagename}.simg bash /usr/local/bin/runapp.sh\n",
    "\n",
    "mv input/* output/\n",
    "rm -f output/PRINT*\n",
    "tar cvzf output.tar.gz output\n",
    "\"\"\")\n",
    "\n",
    "!files-mkdir -S ${STORAGE_MACHINE} -N ${DEPLOYMENT_PATH}\n",
    "!files-mkdir -S ${STORAGE_MACHINE} -N inputs\n",
    "!files-upload -F ${BASE_APP_NAME2}-wrapper.txt -S ${STORAGE_MACHINE} ${DEPLOYMENT_PATH}/\n",
    "\n",
    "writefile(\"test.txt\",\"\"\"\n",
    "parfile=\"input.txt\"\n",
    "${BASE_APP_NAME2}-wrapper.txt\n",
    "\"\"\")\n",
    "\n",
    "!files-mkdir -S ${STORAGE_MACHINE} -N ${DEPLOYMENT_PATH}\n",
    "!files-upload -F test.txt -S ${STORAGE_MACHINE} ${DEPLOYMENT_PATH}/\n",
    "\n",
    "writefile(\"${BASE_APP_NAME2}.txt\",\"\"\"\n",
    "{  \n",
    "    \"name\":\"${BASE_APP_NAME2}\",\n",
    "    \"version\":\"2.0\",\n",
    "    \"label\":\"${BASE_APP_NAME2}\",\n",
    "    \"shortDescription\":\"Run app\",\n",
    "    \"longDescription\":\"\",\n",
    "    \"deploymentSystem\":\"${STORAGE_MACHINE}\",\n",
    "    \"deploymentPath\":\"${DEPLOYMENT_PATH}\",\n",
    "    \"templatePath\":\"${BASE_APP_NAME2}-wrapper.txt\",\n",
    "    \"testPath\":\"test.txt\",\n",
    "    \"executionSystem\":\"${EXEC_MACHINE}\",\n",
    "    \"executionType\":\"CLI\",\n",
    "    \"parallelism\":\"PARALLEL\",\n",
    "    \"allocation\":\"${ALLOCATION}\",\n",
    "    \"modules\":[],\n",
    "    \"inputs\":[\n",
    "        {   \n",
    "        \"id\":\"input tarball\",\n",
    "        \"details\":{  \n",
    "            \"label\":\"input tarball\",\n",
    "            \"description\":\"\",\n",
    "            \"argument\":null,\n",
    "            \"showArgument\":false\n",
    "        },\n",
    "        \"value\":{  \n",
    "            \"default\":\"\",\n",
    "            \"order\":0,\n",
    "            \"required\":false,\n",
    "            \"validator\":\"\",\n",
    "            \"visible\":true\n",
    "        }\n",
    "    }   \n",
    "\n",
    "],\n",
    "\"parameters\":[\n",
    "{\n",
    "  \"id\": \"simagename\",\n",
    "  \"value\": {\n",
    "    \"visible\": true,\n",
    "    \"required\": false,\n",
    "    \"type\": \"string\",\n",
    "    \"order\": 0,\n",
    "    \"enquote\": false,\n",
    "    \"default\": \"python\",\n",
    "    \"validator\": null\n",
    "  },\n",
    "  \"details\": {\n",
    "    \"label\": \"Singularity Image\",\n",
    "    \"description\": \"The Singularity image to run: swan, funwave\",\n",
    "    \"argument\": null,\n",
    "    \"showArgument\": false,\n",
    "    \"repeatArgument\": false\n",
    "  },\n",
    "  \"semantics\": {\n",
    "    \"minCardinality\": 0,\n",
    "    \"maxCardinality\": 1,\n",
    "    \"ontology\": []\n",
    "  }\n",
    "}\n",
    "],\n",
    "\"outputs\":[  \n",
    "    {  \n",
    "        \"id\":\"Output\",\n",
    "        \"details\":{  \n",
    "            \"description\":\"The output\",\n",
    "            \"label\":\"tables\"\n",
    "        },\n",
    "        \"value\":{  \n",
    "            \"default\":\"\",\n",
    "            \"validator\":\"\"\n",
    "        }\n",
    "    }\n",
    "  ]\n",
    "}\n",
    "\"\"\")\n",
    "\n",
    "\n",
    "!apps-addupdate -F ${BASE_APP_NAME2}.txt\n",
    "\n",
    "setvar(\"APP_NAME=${BASE_APP_NAME2}-2.0\")\n",
    "\n",
    "print (\"Successfully configured Agave\")"
   ]
  },
  {
   "cell_type": "code",
   "execution_count": null,
   "metadata": {},
   "outputs": [],
   "source": [
    "import json, os\n",
    "from command import cmd\n",
    "metadata = {\"name\":os.environ[\"EXEC_MACHINE\"]+\"::queue\",\"value\":os.environ[\"QUEUE\"]}\n",
    "c = cmd([\"metadata-list\",\"-Q\",'{\"name\":\"${EXEC_MACHINE}::queue\"}'])\n",
    "found = False\n",
    "for k in c[\"stdout\"]:\n",
    "    ks = k.strip()\n",
    "    if ks != '':\n",
    "        cmd([\"metadata-addupdate\",\"-F\",\"-\",ks],inputs=json.dumps(metadata))\n",
    "        found = True\n",
    "        break\n",
    "if not found:\n",
    "    cmd([\"metadata-addupdate\",\"-F\",\"-\"],inputs=json.dumps(metadata))"
   ]
  },
  {
   "cell_type": "markdown",
   "metadata": {},
   "source": [
    "## Step 6: Grant Access\n",
    "By default, no one will be able to use the resource you configure unless you specifically grant them access.\n",
    "The following two functions can be used to grant or revoke access to an Agave user."
   ]
  },
  {
   "cell_type": "code",
   "execution_count": 33,
   "metadata": {},
   "outputs": [],
   "source": [
    "# The following two commands enable you to grant or revoke the ability\n",
    "# to use a given application to a given user\n",
    "from command import cmd\n",
    "def grant_user(user):\n",
    "    cmd(\"apps-pems-update -u {u} -p READ_EXECUTE $APP_NAME\".format(u=user))\n",
    "    cmd(\"systems-roles-addupdate -r USER -u {u} $STORAGE_MACHINE\".format(u=user))\n",
    "    cmd(\"systems-roles-addupdate -r USER -u {u} $EXEC_MACHINE\".format(u=user))\n",
    "    c = cmd([\"metadata-list\",\"-Q\",'{\"name\":\"${EXEC_MACHINE}::queue\"}'])\n",
    "    for line in c[\"stdout\"]:\n",
    "        line = line.strip()\n",
    "        if line != '':\n",
    "            cmd([\"metadata-pems-addupdate\",\"-u\",user,\"-p\",\"READ\",line])\n",
    "def revoke_user(user):\n",
    "    cmd(\"apps-pems-update -u {u} -p NONE $APP_NAME\".format(u=user))\n",
    "    cmd(\"systems-roles-addupdate -r NONE -u {u} $STORAGE_MACHINE\".format(u=user))\n",
    "    cmd(\"systems-roles-addupdate -r NONE -u {u} $EXEC_MACHINE\".format(u=user))\n",
    "    c = cmd([\"metadata-list\",\"-Q\",'{\"name\":\"${EXEC_MACHINE}::queue\"}'])\n",
    "    for line in c[\"stdout\"]:\n",
    "        line = line.strip()\n",
    "        if line != '':\n",
    "            cmd([\"metadata-pems-addupdate\",\"-u\",user,\"-p\",\"NONE\",line])"
   ]
  },
  {
   "cell_type": "code",
   "execution_count": 34,
   "metadata": {},
   "outputs": [
    {
     "name": "stdout",
     "output_type": "stream",
     "text": [
      "\u001b[1;0mToken for tacc.prod:tg457049 successfully refreshed and cached for 14400 seconds\r\n",
      "8c9adbb2050ecdd752f3a7e7d9f713\u001b[0m\r\n"
     ]
    }
   ],
   "source": [
    "!auth-tokens-refresh"
   ]
  },
  {
   "cell_type": "code",
   "execution_count": 35,
   "metadata": {},
   "outputs": [
    {
     "name": "stdout",
     "output_type": "stream",
     "text": [
      "cmd: apps-pems-update -u nanw -p READ_EXECUTE crcollaboratory-melete05-tg457049-2.0\n",
      "Successfully updated permission for nanw\n",
      "cmd: systems-roles-addupdate -r USER -u nanw melete05-storage-tg457049\n",
      "Successfully updated roles for user nanw on melete05-storage-tg457049\n",
      "cmd: systems-roles-addupdate -r USER -u nanw melete05-exec-tg457049\n",
      "Successfully updated roles for user nanw on melete05-exec-tg457049\n",
      "cmd: metadata-list -Q {\"name\":\"melete05-exec-tg457049::queue\"}\n",
      "997330297259552280-242ac119-0001-012\n",
      "cmd: metadata-pems-addupdate -u nanw -p READ 997330297259552280-242ac119-0001-012\n",
      "Successfully updated permission for nanw\n"
     ]
    }
   ],
   "source": [
    "grant_user(\"nanw\")"
   ]
  },
  {
   "cell_type": "code",
   "execution_count": null,
   "metadata": {},
   "outputs": [],
   "source": []
  }
 ],
 "metadata": {
  "kernelspec": {
   "display_name": "Python 3",
   "language": "python",
   "name": "python3"
  },
  "language_info": {
   "codemirror_mode": {
    "name": "ipython",
    "version": 3
   },
   "file_extension": ".py",
   "mimetype": "text/x-python",
   "name": "python",
   "nbconvert_exporter": "python",
   "pygments_lexer": "ipython3",
   "version": "3.6.7"
  }
 },
 "nbformat": 4,
 "nbformat_minor": 2
}
