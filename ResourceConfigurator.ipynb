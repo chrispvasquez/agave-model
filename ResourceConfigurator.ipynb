{
 "cells": [
  {
   "cell_type": "markdown",
   "metadata": {},
   "source": [
    "# CMR Resource Configurator"
   ]
  },
  {
   "cell_type": "code",
   "execution_count": 1,
   "metadata": {},
   "outputs": [],
   "source": [
    "from setvar import *"
   ]
  },
  {
   "cell_type": "code",
   "execution_count": 2,
   "metadata": {},
   "outputs": [],
   "source": [
    "import re, os, sys"
   ]
  },
  {
   "cell_type": "code",
   "execution_count": 3,
   "metadata": {},
   "outputs": [
    {
     "name": "stdout",
     "output_type": "stream",
     "text": [
      "PATH=/usr/local/cli/bin:/usr/bin:/bin:/usr/sbin:/usr/local/sbin:/sbin\n"
     ]
    }
   ],
   "source": [
    "setvar(\"PATH=/usr/local/cli/bin:/usr/bin:/bin:/usr/sbin:/usr/local/sbin:/sbin\")"
   ]
  },
  {
   "cell_type": "markdown",
   "metadata": {},
   "source": [
    "## Step 1: Select your tenant"
   ]
  },
  {
   "cell_type": "code",
   "execution_count": 4,
   "metadata": {},
   "outputs": [
    {
     "name": "stdout",
     "output_type": "stream",
     "text": [
      "ID                   NAME                                     URL                                               \r\n",
      "araport.org          Araport                                  https://api.araport.org/                          \r\n",
      "agave.prod           Agave Public Tenant                      https://public.agaveapi.co/                       \r\n",
      "portals              Portals Tenant                           https://portals-api.tacc.utexas.edu/              \r\n",
      "sgci                 Science Gateways Community Institute     https://sgci.tacc.cloud/                          \r\n",
      "bridge               Bridge                                   https://api.bridge.tacc.cloud/                    \r\n",
      "designsafe           DesignSafe                               https://agave.designsafe-ci.org/                  \r\n",
      "sd2e                 SD2E Tenant                              https://api.sd2e.org/                             \r\n",
      "tacc.prod            TACC                                     https://api.tacc.utexas.edu/                      \r\n",
      "vdjserver.org        VDJ Server                               https://vdj-agave-api.tacc.utexas.edu/            \r\n",
      "iplantc.org          CyVerse Science APIs                     https://agave.iplantc.org/                        \r\n",
      "irec                 iReceptor                                https://irec.tenants.prod.tacc.cloud/             \r\n",
      "3dem                 3dem Tenant                              https://api.3dem.org/                             \r\n"
     ]
    }
   ],
   "source": [
    "!tenants-list"
   ]
  },
  {
   "cell_type": "code",
   "execution_count": 5,
   "metadata": {},
   "outputs": [],
   "source": [
    "#!tenants-init -t sandbox"
   ]
  },
  {
   "cell_type": "markdown",
   "metadata": {},
   "source": [
    "## Step 2: Set your Agave Username and Password"
   ]
  },
  {
   "cell_type": "code",
   "execution_count": 6,
   "metadata": {},
   "outputs": [
    {
     "name": "stdout",
     "output_type": "stream",
     "text": [
      "AGAVE_USERNAME=ysboss\n"
     ]
    }
   ],
   "source": [
    "setvar(\"AGAVE_USERNAME=ysboss\")"
   ]
  },
  {
   "cell_type": "code",
   "execution_count": 7,
   "metadata": {},
   "outputs": [
    {
     "name": "stdout",
     "output_type": "stream",
     "text": [
      "Password or secret: AGAVE_PASSWD\n",
      "Reading file `AGAVE_PASSWD.txt'\n"
     ]
    }
   ],
   "source": [
    "#os.remove(\"AGAVE_PASSWD.txt\")\n",
    "readpass(\"AGAVE_PASSWD\")"
   ]
  },
  {
   "cell_type": "markdown",
   "metadata": {},
   "source": [
    "## Step 3: Provide Information about the Resource\n",
    "Here you should supply the fully qualified domain name\n",
    "of the machine, the port it will be accessed on, the\n",
    "user that will be accessing the machine, etc."
   ]
  },
  {
   "cell_type": "code",
   "execution_count": 8,
   "metadata": {},
   "outputs": [
    {
     "name": "stdout",
     "output_type": "stream",
     "text": [
      "MACHINE_USERNAME=funwave\n",
      "MACHINE_FULL=shelob.hpc.lsu.edu\n",
      "PORT=22\n",
      "ALLOCATION=hpc_cmr\n",
      "BASE_APP_NAME=crcollaboratory\n",
      "WORK_DIR=/work/funwave\n",
      "HOME_DIR=/home/funwave\n",
      "SCRATCH_DIR=/work/funwave\n",
      "DEPLOYMENT_PATH=agave-deployment\n",
      "AGAVE_JSON_PARSER=jq\n"
     ]
    }
   ],
   "source": [
    "setvar(\"\"\"\n",
    "MACHINE_USERNAME=funwave\n",
    "MACHINE_FULL=shelob.hpc.lsu.edu\n",
    "PORT=22\n",
    "ALLOCATION=hpc_cmr\n",
    "BASE_APP_NAME=crcollaboratory\n",
    "WORK_DIR=/work/${MACHINE_USERNAME}\n",
    "HOME_DIR=/home/${MACHINE_USERNAME}\n",
    "SCRATCH_DIR=/work/${MACHINE_USERNAME}\n",
    "DEPLOYMENT_PATH=agave-deployment\n",
    "AGAVE_JSON_PARSER=jq\n",
    "\"\"\")"
   ]
  },
  {
   "cell_type": "markdown",
   "metadata": {},
   "source": [
    "## Step 4: Provide the login credentials"
   ]
  },
  {
   "cell_type": "code",
   "execution_count": 9,
   "metadata": {},
   "outputs": [
    {
     "name": "stdout",
     "output_type": "stream",
     "text": [
      "Password or secret: MACHINE_PASSWD\n",
      "Reading file `MACHINE_PASSWD.txt'\n"
     ]
    }
   ],
   "source": [
    "#os.remove(\"MACHINE_PASSWD.txt\")\n",
    "readpass(\"MACHINE_PASSWD\")"
   ]
  },
  {
   "cell_type": "code",
   "execution_count": 10,
   "metadata": {},
   "outputs": [
    {
     "name": "stdout",
     "output_type": "stream",
     "text": [
      "MACHINE=shelob\n",
      "DOMAIN=hpc.lsu.edu\n"
     ]
    }
   ],
   "source": [
    "# Parse out the name of the machine from its domain\n",
    "g = re.match(r'(\\w+)\\.(.*)',os.environ[\"MACHINE_FULL\"])\n",
    "setvar(\"\"\"\n",
    "MACHINE={}\n",
    "DOMAIN={}\n",
    "\"\"\".format(g.group(1),g.group(2)))"
   ]
  },
  {
   "cell_type": "code",
   "execution_count": 11,
   "metadata": {},
   "outputs": [
    {
     "name": "stdout",
     "output_type": "stream",
     "text": [
      "BASE_APP_NAME2=crcollaboratory-tapis-shelob-ysboss\n",
      "STORAGE_MACHINE=shelob-tapis-storage-ysboss\n",
      "EXEC_MACHINE=shelob-tapis-exec-ysboss\n"
     ]
    }
   ],
   "source": [
    "setvar(\"\"\"\n",
    "BASE_APP_NAME2=${BASE_APP_NAME}-tapis-${MACHINE}-${AGAVE_USERNAME}\n",
    "STORAGE_MACHINE=${MACHINE}-tapis-storage-${AGAVE_USERNAME}\n",
    "EXEC_MACHINE=${MACHINE}-tapis-exec-${AGAVE_USERNAME}\n",
    "\"\"\")"
   ]
  },
  {
   "cell_type": "code",
   "execution_count": 12,
   "metadata": {},
   "outputs": [
    {
     "name": "stdout",
     "output_type": "stream",
     "text": [
      "Loading crcollaboratory-tapis-shelob-ysboss for ysboss from tacc.prod\r\n",
      "Refreshing access token for crcollaboratory-tapis-shelob-ysboss...\r\n",
      "129abda9aeb7b9e49a66fc899187a37\r\n"
     ]
    }
   ],
   "source": [
    "#!clients-delete -u $AGAVE_USERNAME -p $AGAVE_PASSWD $BASE_APP_NAME2\n",
    "#!clients-create -p $AGAVE_PASSWD -S -N $BASE_APP_NAME2 -u $AGAVE_USERNAME\n",
    "#!auth-tokens-create -u $AGAVE_USERNAME -p $AGAVE_PASSWD\n",
    "!auth-session-init -t tacc.prod -u $AGAVE_USERNAME -p $AGAVE_PASSWD -N $BASE_APP_NAME2"
   ]
  },
  {
   "cell_type": "code",
   "execution_count": 13,
   "metadata": {},
   "outputs": [
    {
     "name": "stdout",
     "output_type": "stream",
     "text": [
      "Writing file `shelob-tapis-storage-ysboss.txt'\n"
     ]
    }
   ],
   "source": [
    "writefile(\"${STORAGE_MACHINE}.txt\",\"\"\"{\n",
    "    \"id\": \"${STORAGE_MACHINE}\",\n",
    "    \"name\": \"${MACHINE} storage (${MACHINE_USERNAME})\",\n",
    "    \"description\": \"The ${MACHINE} computer\",\n",
    "    \"site\": \"${DOMAIN}\",\n",
    "    \"type\": \"STORAGE\",\n",
    "    \"storage\": {\n",
    "       \"host\": \"${MACHINE_FULL}\",\n",
    "       \"port\": ${PORT},\n",
    "       \"protocol\": \"SFTP\",\n",
    "       \"rootDir\": \"/\",\n",
    "       \"homeDir\": \"${HOME_DIR}\",\n",
    "       \"auth\": {\n",
    "           \"username\" : \"${MACHINE_USERNAME}\",\n",
    "           \"password\" : \"${MACHINE_PASSWD}\",\n",
    "           \"type\" : \"PASSWORD\"\n",
    "        }\n",
    "    }\n",
    "}\n",
    "\"\"\")"
   ]
  },
  {
   "cell_type": "code",
   "execution_count": 14,
   "metadata": {},
   "outputs": [
    {
     "name": "stdout",
     "output_type": "stream",
     "text": [
      "\u001b[1;0m\u001b[1;0mSuccessfully added system shelob-tapis-storage-ysboss\u001b[0m\u001b[0m\r\n"
     ]
    }
   ],
   "source": [
    "!systems-addupdate -F ${STORAGE_MACHINE}.txt"
   ]
  },
  {
   "cell_type": "markdown",
   "metadata": {},
   "source": [
    "### List files on the STORAGE_MACHINE to ensure access is correctly configured."
   ]
  },
  {
   "cell_type": "code",
   "execution_count": 15,
   "metadata": {},
   "outputs": [
    {
     "name": "stdout",
     "output_type": "stream",
     "text": [
      "drwx 4096 Oct  8 09:04 ./                 \r\n",
      "-rw-  240 Apr 26 06:04 .bash.mike001.sh   \r\n",
      "-rw-  181 May  7 03:43 .bash.mike002.sh   \r\n",
      "-rw-  236 Nov 15 09:09 .bash.mike003.sh   \r\n",
      "-rw-  271 May 11 10:09 .bash.mike004.sh   \r\n",
      "-rw-  249 Feb  1 07:07 .bash.mike005.sh   \r\n",
      "-rw-  233 Mar  1 06:58 .bash.mike006.sh   \r\n",
      "-rw-  271 May  9 17:05 .bash.mike007.sh   \r\n",
      "-rw-  271 May  7 06:47 .bash.mike008.sh   \r\n",
      "-rw-  240 May  3 08:58 .bash.mike009.sh   \r\n",
      "-rw-  271 May  9 14:58 .bash.mike010.sh   \r\n",
      "-rw-  271 May  9 18:01 .bash.mike011.sh   \r\n",
      "-rw-  271 May  9 16:15 .bash.mike012.sh   \r\n",
      "-rw-  271 May  9 17:57 .bash.mike013.sh   \r\n",
      "-rw-  271 May  9 16:19 .bash.mike014.sh   \r\n",
      "-rw-  242 Mar 22 03:49 .bash.mike015.sh   \r\n",
      "-rw-  249 Sep  5 11:37 .bash.mike016.sh   \r\n",
      "-rw-  261 Sep  4 11:42 .bash.mike017.sh   \r\n",
      "-rw-  237 Jan 22 09:18 .bash.mike018.sh   \r\n",
      "-rw-  271 May 11 16:29 .bash.mike019.sh   \r\n",
      "-rw-  181 May  7 05:14 .bash.mike020.sh   \r\n",
      "-rw-  234 Nov 15 02:51 .bash.mike021.sh   \r\n",
      "-rw-  239 Oct  4 11:02 .bash.mike022.sh   \r\n",
      "-rw-  235 Jan 28 03:48 .bash.mike023.sh   \r\n",
      "-rw-  236 Nov 15 09:31 .bash.mike025.sh   \r\n",
      "-rw-  234 Nov 19 04:48 .bash.mike028.sh   \r\n",
      "-rw-  237 Jan 25 04:12 .bash.mike031.sh   \r\n",
      "-rw-  271 May 11 10:37 .bash.mike033.sh   \r\n",
      "-rw-  234 Nov 15 04:09 .bash.mike035.sh   \r\n",
      "-rw-  234 Nov 15 04:10 .bash.mike036.sh   \r\n",
      "-rw-  233 Mar  1 14:50 .bash.mike038.sh   \r\n",
      "-rw-  237 Jan 22 09:10 .bash.mike039.sh   \r\n",
      "-rw-  271 May  9 11:56 .bash.mike041.sh   \r\n",
      "-rw-  239 Oct  6 14:46 .bash.mike042.sh   \r\n",
      "-rw-  235 Jan 18 11:43 .bash.mike044.sh   \r\n",
      "-rw-  271 May 10 07:57 .bash.mike045.sh   \r\n",
      "-rw-  271 May  7 05:52 .bash.mike050.sh   \r\n",
      "-rw-  242 Sep 18 11:24 .bash.mike051.sh   \r\n",
      "-rw-  271 May  8 15:55 .bash.mike052.sh   \r\n",
      "-rw-  237 Nov 26 10:39 .bash.mike057.sh   \r\n",
      "-rw-  238 Nov 26 10:11 .bash.mike058.sh   \r\n",
      "-rw-  238 Nov 26 10:11 .bash.mike059.sh   \r\n",
      "-rw-  237 Nov 26 10:39 .bash.mike060.sh   \r\n",
      "-rw-  240 May  3 04:22 .bash.mike061.sh   \r\n",
      "-rw-  244 Sep 18 08:59 .bash.mike062.sh   \r\n",
      "-rw-  240 May  3 04:24 .bash.mike063.sh   \r\n",
      "-rw-  240 Apr 30 09:05 .bash.mike064.sh   \r\n",
      "-rw-  240 May  3 04:24 .bash.mike065.sh   \r\n",
      "-rw-  240 May  3 08:21 .bash.mike066.sh   \r\n",
      "-rw-  236 Mar 25 05:58 .bash.mike070.sh   \r\n",
      "-rw-  240 Apr 23 09:19 .bash.mike071.sh   \r\n",
      "-rw-  236 Nov 15 04:40 .bash.mike073.sh   \r\n",
      "-rw-  238 Nov 27 04:03 .bash.mike075.sh   \r\n",
      "-rw-  237 Jan 24 15:15 .bash.mike076.sh   \r\n",
      "-rw-  238 Nov 27 04:03 .bash.mike077.sh   \r\n",
      "-rw-  234 Nov 13 09:13 .bash.mike079.sh   \r\n",
      "-rw-  234 Nov 13 08:58 .bash.mike080.sh   \r\n",
      "-rw-  240 Apr 23 11:02 .bash.mike083.sh   \r\n",
      "-rw-  245 Mar 25 06:28 .bash.mike087.sh   \r\n",
      "-rw-  239 Oct  4 11:15 .bash.mike088.sh   \r\n",
      "-rw-  271 May 11 04:46 .bash.mike089.sh   \r\n",
      "-rw-  234 Oct  8 08:48 .bash.mike091.sh   \r\n",
      "-rw-  240 May  3 05:03 .bash.mike095.sh   \r\n",
      "-rw-  240 Apr 25 08:01 .bash.mike099.sh   \r\n",
      "-rw-  241 Oct  6 15:02 .bash.mike100.sh   \r\n",
      "-rw-  237 Nov 26 10:32 .bash.mike102.sh   \r\n",
      "-rw-  238 Nov 27 04:15 .bash.mike108.sh   \r\n",
      "-rw-  244 Sep 19 08:21 .bash.mike117.sh   \r\n",
      "-rw-  239 Oct  8 08:17 .bash.mike119.sh   \r\n",
      "-rw-  237 Nov 19 09:50 .bash.mike121.sh   \r\n",
      "-rw-  271 May  8 06:06 .bash.mike124.sh   \r\n",
      "-rw-  237 Jan 22 07:55 .bash.mike125.sh   \r\n",
      "-rw-  237 Mar 25 06:14 .bash.mike127.sh   \r\n",
      "-rw-  237 Mar 27 16:44 .bash.mike129.sh   \r\n",
      "-rw-  237 Nov 19 09:50 .bash.mike130.sh   \r\n",
      "-rw-  239 Mar 25 06:21 .bash.mike131.sh   \r\n",
      "-rw-  270 May  9 12:31 .bash.mike132.sh   \r\n",
      "-rw-  236 Oct  4 10:44 .bash.mike133.sh   \r\n",
      "-rw-  237 Nov 26 10:32 .bash.mike134.sh   \r\n",
      "-rw-  192 Sep  5 10:54 .bash.mike138.sh   \r\n",
      "-rw-  261 Aug 31 08:21 .bash.mike149.sh   \r\n",
      "-rw-  236 Oct  4 10:00 .bash.mike153.sh   \r\n",
      "-rw-  239 Oct  4 10:16 .bash.mike156.sh   \r\n",
      "-rw-  244 Mar 22 04:22 .bash.mike159.sh   \r\n",
      "-rw-  237 Jan 22 07:58 .bash.mike164.sh   \r\n",
      "-rw-  235 Mar 25 05:54 .bash.mike172.sh   \r\n",
      "-rw-  270 May  8 11:42 .bash.mike173.sh   \r\n",
      "-rw-  235 Jan 28 07:15 .bash.mike174.sh   \r\n",
      "-rw-  241 Sep  6 05:29 .bash.mike178.sh   \r\n",
      "-rw-  234 Dec 14 08:42 .bash.mike185.sh   \r\n",
      "-rw-  234 Dec 14 08:42 .bash.mike186.sh   \r\n",
      "-rw-  234 Dec 14 08:42 .bash.mike187.sh   \r\n",
      "-rw-  234 Dec 14 08:42 .bash.mike188.sh   \r\n",
      "-rw-  234 Dec 14 08:42 .bash.mike189.sh   \r\n",
      "-rw-  234 Dec 14 08:42 .bash.mike190.sh   \r\n",
      "-rw-  233 Mar  1 10:45 .bash.mike191.sh   \r\n",
      "-rw-  234 Dec 14 08:42 .bash.mike192.sh   \r\n",
      "-rw-  271 May 16 04:56 .bash.mike198.sh   \r\n",
      "-rw-  271 May 10 05:35 .bash.mike200.sh   \r\n",
      "-rw-  233 Mar  7 09:27 .bash.mike205.sh   \r\n"
     ]
    }
   ],
   "source": [
    "#!files-list -S ${STORAGE_MACHINE} ./ | head -5\n",
    "#!auth-session-init -t tacc.prod -u $AGAVE_USERNAME -p $AGAVE_PASSWD -N $BASE_APP_NAME2\n",
    "!files-list -l agave://${STORAGE_MACHINE} "
   ]
  },
  {
   "cell_type": "markdown",
   "metadata": {},
   "source": [
    "## Step 5: More Machine Details\n",
    "In order to properly use the execution machine, you will\n",
    "need to provide agave with details about its queuing system\n",
    "as well as the default queue that jobs will be run in. Please\n",
    "edit the next section carefully."
   ]
  },
  {
   "cell_type": "code",
   "execution_count": 16,
   "metadata": {},
   "outputs": [
    {
     "name": "stdout",
     "output_type": "stream",
     "text": [
      "QUEUE=checkpt\n",
      "MAX_TIME=72:00:00\n",
      "NODES=128\n",
      "PROCS=16\n",
      "MAX_JOBS=30\n",
      "Writing file `shelob-tapis-exec-ysboss.txt'\n",
      "#PBS -A ${ALLOCATION}\n",
      "#PBS -l cput=${MAX_TIME}\n",
      "#PBS -l walltime=${MAX_TIME}\n",
      "#PBS -q checkpt\n",
      "#PBS -l nodes=\\${AGAVE_JOB_NODE_COUNT}:ppn=16\n",
      "\u001b[1;0m\u001b[1;0mSuccessfully added system shelob-tapis-exec-ysboss\u001b[0m\u001b[0m\n"
     ]
    }
   ],
   "source": [
    "# Configure information about the machine/queue\n",
    "setvar(\"\"\"\n",
    "QUEUE=checkpt\n",
    "MAX_TIME=72:00:00\n",
    "NODES=128\n",
    "PROCS=16\n",
    "MAX_JOBS=30\n",
    "\"\"\")\n",
    "\n",
    "os.environ[\"DIRECTIVES\"]=re.sub(\"\\n\\\\s*\",r\"\\\\n\",\"\"\"\n",
    "#PBS -A ${ALLOCATION}\n",
    "#PBS -l cput=${MAX_TIME}\n",
    "#PBS -l walltime=${MAX_TIME}\n",
    "#PBS -q checkpt\n",
    "#PBS -l nodes=\\${AGAVE_JOB_NODE_COUNT}:ppn=16\n",
    "\"\"\".strip())    \n",
    "writefile(\"${EXEC_MACHINE}.txt\",\"\"\"\n",
    "{\n",
    "    \"id\": \"${EXEC_MACHINE}\",\n",
    "    \"name\": \"${MACHINE} (${MACHINE_USERNAME})\",\n",
    "    \"description\": \"The ${MACHINE} computer\",\n",
    "    \"site\": \"${DOMAIN}\",\n",
    "    \"public\": false,\n",
    "    \"status\": \"UP\",\n",
    "    \"type\": \"EXECUTION\",\n",
    "    \"executionType\": \"HPC\",\n",
    "    \"scheduler\" : \"CUSTOM_TORQUE\",\n",
    "    \"environment\": null,\n",
    "    \"scratchDir\" : \"${SCRATCH_DIR}\",\n",
    "    \"queues\": [\n",
    "       {\n",
    "            \"customDirectives\" : \"${DIRECTIVES}\",\n",
    "            \"name\": \"${QUEUE}\",\n",
    "            \"default\": true,\n",
    "            \"maxJobs\": ${MAX_JOBS},\n",
    "            \"maxUserJobs\": ${MAX_JOBS},\n",
    "            \"maxNodes\": ${NODES},\n",
    "            \"maxProcessorsPerNode\": ${PROCS},\n",
    "            \"minProcessorsPerNode\": 1,\n",
    "            \"maxRequestedTime\": \"${MAX_TIME}\"\n",
    "        }\n",
    "    ],\n",
    "    \"login\": {\n",
    "        \"auth\": {\n",
    "         \"username\" : \"${MACHINE_USERNAME}\",\n",
    "         \"password\" : \"${MACHINE_PASSWD}\",\n",
    "         \"type\" : \"PASSWORD\"\n",
    "        },\n",
    "        \"host\": \"${MACHINE_FULL}\",\n",
    "        \"port\": ${PORT},\n",
    "        \"protocol\": \"SSH\"\n",
    "    },\n",
    "    \"maxSystemJobs\": 50,\n",
    "    \"maxSystemJobsPerUser\": 50,\n",
    "    \"storage\": {\n",
    "        \"host\": \"${MACHINE_FULL}\",\n",
    "        \"port\": ${PORT},\n",
    "        \"protocol\": \"SFTP\",\n",
    "        \"rootDir\": \"/\",\n",
    "        \"homeDir\": \"${HOME_DIR}\",\n",
    "        \"auth\": {\n",
    "         \"username\" : \"${MACHINE_USERNAME}\",\n",
    "         \"password\" : \"${MACHINE_PASSWD}\",\n",
    "         \"type\" : \"PASSWORD\"\n",
    "        }\n",
    "     }\n",
    "    },\n",
    "    \"workDir\": \"${WORK_DIR}\"\n",
    "}\"\"\")                        \n",
    "\n",
    "!echo ${DIRECTIVES}\n",
    "\n",
    "!systems-addupdate -F ${EXEC_MACHINE}.txt"
   ]
  },
  {
   "cell_type": "markdown",
   "metadata": {},
   "source": [
    "### List files on the EXEC_MACHINE to ensure access is correctly configured."
   ]
  },
  {
   "cell_type": "code",
   "execution_count": 17,
   "metadata": {},
   "outputs": [
    {
     "name": "stdout",
     "output_type": "stream",
     "text": [
      "drwx 4096 Oct  8 09:04 ./                 \r\n",
      "-rw-  240 Apr 26 06:04 .bash.mike001.sh   \r\n",
      "-rw-  181 May  7 03:43 .bash.mike002.sh   \r\n",
      "-rw-  236 Nov 15 09:09 .bash.mike003.sh   \r\n",
      "-rw-  271 May 11 10:09 .bash.mike004.sh   \r\n",
      "-rw-  249 Feb  1 07:07 .bash.mike005.sh   \r\n",
      "-rw-  233 Mar  1 06:58 .bash.mike006.sh   \r\n",
      "-rw-  271 May  9 17:05 .bash.mike007.sh   \r\n",
      "-rw-  271 May  7 06:47 .bash.mike008.sh   \r\n",
      "-rw-  240 May  3 08:58 .bash.mike009.sh   \r\n",
      "-rw-  271 May  9 14:58 .bash.mike010.sh   \r\n",
      "-rw-  271 May  9 18:01 .bash.mike011.sh   \r\n",
      "-rw-  271 May  9 16:15 .bash.mike012.sh   \r\n",
      "-rw-  271 May  9 17:57 .bash.mike013.sh   \r\n",
      "-rw-  271 May  9 16:19 .bash.mike014.sh   \r\n",
      "-rw-  242 Mar 22 03:49 .bash.mike015.sh   \r\n",
      "-rw-  249 Sep  5 11:37 .bash.mike016.sh   \r\n",
      "-rw-  261 Sep  4 11:42 .bash.mike017.sh   \r\n",
      "-rw-  237 Jan 22 09:18 .bash.mike018.sh   \r\n",
      "-rw-  271 May 11 16:29 .bash.mike019.sh   \r\n",
      "-rw-  181 May  7 05:14 .bash.mike020.sh   \r\n",
      "-rw-  234 Nov 15 02:51 .bash.mike021.sh   \r\n",
      "-rw-  239 Oct  4 11:02 .bash.mike022.sh   \r\n",
      "-rw-  235 Jan 28 03:48 .bash.mike023.sh   \r\n",
      "-rw-  236 Nov 15 09:31 .bash.mike025.sh   \r\n",
      "-rw-  234 Nov 19 04:48 .bash.mike028.sh   \r\n",
      "-rw-  237 Jan 25 04:12 .bash.mike031.sh   \r\n",
      "-rw-  271 May 11 10:37 .bash.mike033.sh   \r\n",
      "-rw-  234 Nov 15 04:09 .bash.mike035.sh   \r\n",
      "-rw-  234 Nov 15 04:10 .bash.mike036.sh   \r\n",
      "-rw-  233 Mar  1 14:50 .bash.mike038.sh   \r\n",
      "-rw-  237 Jan 22 09:10 .bash.mike039.sh   \r\n",
      "-rw-  271 May  9 11:56 .bash.mike041.sh   \r\n",
      "-rw-  239 Oct  6 14:46 .bash.mike042.sh   \r\n",
      "-rw-  235 Jan 18 11:43 .bash.mike044.sh   \r\n",
      "-rw-  271 May 10 07:57 .bash.mike045.sh   \r\n",
      "-rw-  271 May  7 05:52 .bash.mike050.sh   \r\n",
      "-rw-  242 Sep 18 11:24 .bash.mike051.sh   \r\n",
      "-rw-  271 May  8 15:55 .bash.mike052.sh   \r\n",
      "-rw-  237 Nov 26 10:39 .bash.mike057.sh   \r\n",
      "-rw-  238 Nov 26 10:11 .bash.mike058.sh   \r\n",
      "-rw-  238 Nov 26 10:11 .bash.mike059.sh   \r\n",
      "-rw-  237 Nov 26 10:39 .bash.mike060.sh   \r\n",
      "-rw-  240 May  3 04:22 .bash.mike061.sh   \r\n",
      "-rw-  244 Sep 18 08:59 .bash.mike062.sh   \r\n",
      "-rw-  240 May  3 04:24 .bash.mike063.sh   \r\n",
      "-rw-  240 Apr 30 09:05 .bash.mike064.sh   \r\n",
      "-rw-  240 May  3 04:24 .bash.mike065.sh   \r\n",
      "-rw-  240 May  3 08:21 .bash.mike066.sh   \r\n",
      "-rw-  236 Mar 25 05:58 .bash.mike070.sh   \r\n",
      "-rw-  240 Apr 23 09:19 .bash.mike071.sh   \r\n",
      "-rw-  236 Nov 15 04:40 .bash.mike073.sh   \r\n",
      "-rw-  238 Nov 27 04:03 .bash.mike075.sh   \r\n",
      "-rw-  237 Jan 24 15:15 .bash.mike076.sh   \r\n",
      "-rw-  238 Nov 27 04:03 .bash.mike077.sh   \r\n",
      "-rw-  234 Nov 13 09:13 .bash.mike079.sh   \r\n",
      "-rw-  234 Nov 13 08:58 .bash.mike080.sh   \r\n",
      "-rw-  240 Apr 23 11:02 .bash.mike083.sh   \r\n",
      "-rw-  245 Mar 25 06:28 .bash.mike087.sh   \r\n",
      "-rw-  239 Oct  4 11:15 .bash.mike088.sh   \r\n",
      "-rw-  271 May 11 04:46 .bash.mike089.sh   \r\n",
      "-rw-  234 Oct  8 08:48 .bash.mike091.sh   \r\n",
      "-rw-  240 May  3 05:03 .bash.mike095.sh   \r\n",
      "-rw-  240 Apr 25 08:01 .bash.mike099.sh   \r\n",
      "-rw-  241 Oct  6 15:02 .bash.mike100.sh   \r\n",
      "-rw-  237 Nov 26 10:32 .bash.mike102.sh   \r\n",
      "-rw-  238 Nov 27 04:15 .bash.mike108.sh   \r\n",
      "-rw-  244 Sep 19 08:21 .bash.mike117.sh   \r\n",
      "-rw-  239 Oct  8 08:17 .bash.mike119.sh   \r\n",
      "-rw-  237 Nov 19 09:50 .bash.mike121.sh   \r\n",
      "-rw-  271 May  8 06:06 .bash.mike124.sh   \r\n",
      "-rw-  237 Jan 22 07:55 .bash.mike125.sh   \r\n",
      "-rw-  237 Mar 25 06:14 .bash.mike127.sh   \r\n",
      "-rw-  237 Mar 27 16:44 .bash.mike129.sh   \r\n",
      "-rw-  237 Nov 19 09:50 .bash.mike130.sh   \r\n",
      "-rw-  239 Mar 25 06:21 .bash.mike131.sh   \r\n",
      "-rw-  270 May  9 12:31 .bash.mike132.sh   \r\n",
      "-rw-  236 Oct  4 10:44 .bash.mike133.sh   \r\n",
      "-rw-  237 Nov 26 10:32 .bash.mike134.sh   \r\n",
      "-rw-  192 Sep  5 10:54 .bash.mike138.sh   \r\n",
      "-rw-  261 Aug 31 08:21 .bash.mike149.sh   \r\n",
      "-rw-  236 Oct  4 10:00 .bash.mike153.sh   \r\n",
      "-rw-  239 Oct  4 10:16 .bash.mike156.sh   \r\n",
      "-rw-  244 Mar 22 04:22 .bash.mike159.sh   \r\n",
      "-rw-  237 Jan 22 07:58 .bash.mike164.sh   \r\n",
      "-rw-  235 Mar 25 05:54 .bash.mike172.sh   \r\n",
      "-rw-  270 May  8 11:42 .bash.mike173.sh   \r\n",
      "-rw-  235 Jan 28 07:15 .bash.mike174.sh   \r\n",
      "-rw-  241 Sep  6 05:29 .bash.mike178.sh   \r\n",
      "-rw-  234 Dec 14 08:42 .bash.mike185.sh   \r\n",
      "-rw-  234 Dec 14 08:42 .bash.mike186.sh   \r\n",
      "-rw-  234 Dec 14 08:42 .bash.mike187.sh   \r\n",
      "-rw-  234 Dec 14 08:42 .bash.mike188.sh   \r\n",
      "-rw-  234 Dec 14 08:42 .bash.mike189.sh   \r\n",
      "-rw-  234 Dec 14 08:42 .bash.mike190.sh   \r\n",
      "-rw-  233 Mar  1 10:45 .bash.mike191.sh   \r\n",
      "-rw-  234 Dec 14 08:42 .bash.mike192.sh   \r\n",
      "-rw-  271 May 16 04:56 .bash.mike198.sh   \r\n",
      "-rw-  271 May 10 05:35 .bash.mike200.sh   \r\n",
      "-rw-  233 Mar  7 09:27 .bash.mike205.sh   \r\n"
     ]
    }
   ],
   "source": [
    "#!files-list -S ${EXEC_MACHINE} ./ | head -5\n",
    "!files-list -l agave://${EXEC_MACHINE}"
   ]
  },
  {
   "cell_type": "markdown",
   "metadata": {},
   "source": [
    "### Create the batch script used to run jobs. This should not need editing."
   ]
  },
  {
   "cell_type": "code",
   "execution_count": 18,
   "metadata": {},
   "outputs": [],
   "source": [
    "!files-mkdir agave://${EXEC_MACHINE}/${DEPLOYMENT_PATH}"
   ]
  },
  {
   "cell_type": "code",
   "execution_count": 19,
   "metadata": {},
   "outputs": [
    {
     "name": "stdout",
     "output_type": "stream",
     "text": [
      "Writing file `crcollaboratory-tapis-shelob-ysboss-wrapper.txt'\n",
      "Writing file `test.txt'\n",
      "Writing file `crcollaboratory-tapis-shelob-ysboss.txt'\n",
      "\u001b[1;0m\u001b[1;0mSuccessfully added app crcollaboratory-tapis-shelob-ysboss-2.0\u001b[0m\u001b[0m\n",
      "APP_NAME=crcollaboratory-tapis-shelob-ysboss-2.0\n",
      "Successfully configured Agave\n"
     ]
    }
   ],
   "source": [
    "writefile(\"${BASE_APP_NAME2}-wrapper.txt\",\"\"\"\n",
    "#!/bin/bash\n",
    "handle_trap() {\n",
    "  rc=\\$?\n",
    "  if [ \"\\$rc\" != 0 ]\n",
    "  then\n",
    "    \\$(\\${AGAVE_JOB_CALLBACK_FAILURE})\n",
    "  fi\n",
    "}\n",
    "\n",
    "trap 'handle_trap' ERR EXIT\n",
    "echo 'running \\${simagename} model'\n",
    "# Setting the x flag will echo every\n",
    "# command onto stderr. This is\n",
    "# for debugging, so we can see what's\n",
    "# going on.\n",
    "set -x\n",
    "set -e\n",
    "echo ==PWD=============\n",
    "# We also print out the execution\n",
    "# directory. Again, for debugging purposes.\n",
    "pwd\n",
    "echo ==JOB=============\n",
    "\n",
    "if [ \"\\${PBS_NODEFILE}\" = \"\" ]\n",
    "then\n",
    " # When running on a system managed by Torque\n",
    " # this variable should be set. If it's not,\n",
    " # that's a problem.\n",
    " echo \"The PBS_NODEFILE was not set\"\n",
    " exit 2\n",
    "fi\n",
    "\n",
    "# By default, the PBS_NODEFILE lists nodes multiple\n",
    "# times, once for each MPI process that should run\n",
    "# there. We only want one MPI process per node, so\n",
    "# we create a new file with \"sort -u\".\n",
    "LOCAL_NODEFILE=nodefile.txt\n",
    "sort -u < \\${PBS_NODEFILE} > \\${LOCAL_NODEFILE}\n",
    "PROCS=\\$(wc -l < \\${LOCAL_NODEFILE})\n",
    "\n",
    "if [ \"\\${PROCS}\" = \"\" ]\n",
    "then\n",
    " echo \"PROCS was not set\"\n",
    " exit 3\n",
    "fi\n",
    "\n",
    "# Prepare the nodes to run the image\n",
    "export SING_OPTS=\"--bind \\$PWD:/workdir \\$SING_OPTS\"\n",
    "for host in \\$(cat nodefile.txt)\n",
    "do\n",
    "    hostfile=\"\\$HOME/.bash.\\${host}.sh\"\n",
    "    echo \"export SING_IMAGE=/home/funwave/images/science-base-alt.simg\" > \\$hostfile\n",
    "    # echo \"export SING_OPTS='\\$SING_OPTS'\" >> \\$hostfile\n",
    "done\n",
    "\n",
    "# Create a nodefile that matches our choices at submit time\n",
    "touch nodes.txt\n",
    "for i in \\$(seq 1 \\${AGAVE_JOB_PROCESSORS_PER_NODE})\n",
    "do\n",
    "    cat nodefile.txt >> nodes.txt\n",
    "done\n",
    "\n",
    "export NP=\\$(wc -l < nodes.txt)\n",
    "\n",
    "tar xzvf input.tgz\n",
    "\n",
    "mkdir -p output\n",
    "\n",
    "# /project/singularity/bin/singularity exec \\$SING_OPTS /project/sbrandt/chemora/images/\\${simagename}.simg bash /usr/local/bin/runapp.sh\n",
    "/project/singularity/bin/singularity exec \\$SING_OPTS /home/funwave/images/science-base-alt.simg bash /usr/local/bin/runapp.sh\n",
    "mv input/* output/\n",
    "rm -f output/PRINT*\n",
    "tar cvzf output.tar.gz output\n",
    "\"\"\")\n",
    "\n",
    "!files-mkdir agave://${EXEC_MACHINE}/${DEPLOYMENT_PATH}\n",
    "!files-mkdir agave://${STORAGE_MACHINE}/inputs\n",
    "!files-cp ${BASE_APP_NAME2}-wrapper.txt agave://${STORAGE_MACHINE}/${DEPLOYMENT_PATH}/\n",
    "\n",
    "writefile(\"test.txt\",\"\"\"\n",
    "parfile=\"input.txt\"\n",
    "${BASE_APP_NAME2}-wrapper.txt\n",
    "\"\"\")\n",
    "\n",
    "!files-mkdir agave://${STORAGE_MACHINE}/${DEPLOYMENT_PATH}\n",
    "!files-cp test.txt agave://${STORAGE_MACHINE}/${DEPLOYMENT_PATH}/\n",
    "\n",
    "writefile(\"${BASE_APP_NAME2}.txt\",\"\"\"\n",
    "{  \n",
    "    \"name\":\"${BASE_APP_NAME2}\",\n",
    "    \"version\":\"2.0\",\n",
    "    \"label\":\"${BASE_APP_NAME2}\",\n",
    "    \"shortDescription\":\"Run ISAAC app\",\n",
    "    \"longDescription\":\"\",\n",
    "    \"deploymentSystem\":\"${STORAGE_MACHINE}\",\n",
    "    \"deploymentPath\":\"${DEPLOYMENT_PATH}\",\n",
    "    \"templatePath\":\"${BASE_APP_NAME2}-wrapper.txt\",\n",
    "    \"testPath\":\"test.txt\",\n",
    "    \"executionSystem\":\"${EXEC_MACHINE}\",\n",
    "    \"executionType\":\"HPC\",\n",
    "    \"parallelism\":\"PARALLEL\",\n",
    "    \"allocation\":\"${ALLOCATION}\",\n",
    "    \"modules\":[],\n",
    "    \"inputs\":[\n",
    "        {   \n",
    "        \"id\":\"input tarball\",\n",
    "        \"details\":{  \n",
    "            \"label\":\"input tarball\",\n",
    "            \"description\":\"\",\n",
    "            \"argument\":null,\n",
    "            \"showArgument\":false\n",
    "        },\n",
    "        \"value\":{  \n",
    "            \"default\":\"\",\n",
    "            \"order\":0,\n",
    "            \"required\":false,\n",
    "            \"validator\":\"\",\n",
    "            \"visible\":true\n",
    "        }\n",
    "    }   \n",
    "\n",
    "],\n",
    "\"parameters\":[\n",
    "{\n",
    "  \"id\": \"simagename\",\n",
    "  \"value\": {\n",
    "    \"visible\": true,\n",
    "    \"required\": false,\n",
    "    \"type\": \"string\",\n",
    "    \"order\": 0,\n",
    "    \"enquote\": false,\n",
    "    \"default\": \"python\",\n",
    "    \"validator\": null\n",
    "  },\n",
    "  \"details\": {\n",
    "    \"label\": \"Singularity Image\",\n",
    "    \"description\": \"The Singularity image to run: swan, funwave\",\n",
    "    \"argument\": null,\n",
    "    \"showArgument\": false,\n",
    "    \"repeatArgument\": false\n",
    "  },\n",
    "  \"semantics\": {\n",
    "    \"minCardinality\": 0,\n",
    "    \"maxCardinality\": 1,\n",
    "    \"ontology\": []\n",
    "  }\n",
    "}\n",
    "],\n",
    "\"outputs\":[  \n",
    "    {  \n",
    "        \"id\":\"Output\",\n",
    "        \"details\":{  \n",
    "            \"description\":\"The output\",\n",
    "            \"label\":\"tables\"\n",
    "        },\n",
    "        \"value\":{  \n",
    "            \"default\":\"\",\n",
    "            \"validator\":\"\"\n",
    "        }\n",
    "    }\n",
    "  ]\n",
    "}\n",
    "\"\"\")\n",
    "\n",
    "\n",
    "!apps-addupdate -F ${BASE_APP_NAME2}.txt\n",
    "\n",
    "setvar(\"APP_NAME=${BASE_APP_NAME2}-2.0\")\n",
    "\n",
    "print (\"Successfully configured Agave\")"
   ]
  },
  {
   "cell_type": "code",
   "execution_count": 20,
   "metadata": {},
   "outputs": [
    {
     "name": "stdout",
     "output_type": "stream",
     "text": [
      "cmd: metadata-list -Q {\"name\":\"shelob-tapis-exec-ysboss::queue\"}\n",
      "6562886709805126121-242ac11a-0001-012\n",
      "cmd: metadata-addupdate -F - 6562886709805126121-242ac11a-0001-012\n",
      "Successfully submitted metadata object 6562886709805126121-242ac11a-0001-012\n"
     ]
    }
   ],
   "source": [
    "import json, os\n",
    "from command import cmd\n",
    "metadata = {\"name\":os.environ[\"EXEC_MACHINE\"]+\"::queue\",\"value\":os.environ[\"QUEUE\"]}\n",
    "c = cmd([\"metadata-list\",\"-Q\",'{\"name\":\"${EXEC_MACHINE}::queue\"}'])\n",
    "found = False\n",
    "for k in c[\"stdout\"]:\n",
    "    ks = k.strip()\n",
    "    if ks != '':\n",
    "        cmd([\"metadata-addupdate\",\"-F\",\"-\",ks],inputs=json.dumps(metadata))\n",
    "        found = True\n",
    "        break\n",
    "if not found:\n",
    "    cmd([\"metadata-addupdate\",\"-F\",\"-\"],inputs=json.dumps(metadata))"
   ]
  },
  {
   "cell_type": "markdown",
   "metadata": {},
   "source": [
    "## Step 6: Grant Access\n",
    "By default, no one will be able to use the resource you configure unless you specifically grant them access.\n",
    "The following two functions can be used to grant or revoke access to an Agave user."
   ]
  },
  {
   "cell_type": "code",
   "execution_count": 21,
   "metadata": {},
   "outputs": [],
   "source": [
    "# The following two commands enable you to grant or revoke the ability\n",
    "# to use a given application to a given user\n",
    "from command import cmd\n",
    "def grant_user(user):\n",
    "    cmd(\"apps-pems-update -u {u} -p READ_EXECUTE $APP_NAME\".format(u=user))\n",
    "    cmd(\"systems-roles-addupdate -r USER -u {u} $STORAGE_MACHINE\".format(u=user))\n",
    "    cmd(\"systems-roles-addupdate -r USER -u {u} $EXEC_MACHINE\".format(u=user))\n",
    "    c = cmd([\"metadata-list\",\"-Q\",'{\"name\":\"${EXEC_MACHINE}::queue\"}'])\n",
    "    for line in c[\"stdout\"]:\n",
    "        line = line.strip()\n",
    "        if line != '':\n",
    "            cmd([\"metadata-pems-addupdate\",\"-u\",user,\"-p\",\"READ\",line])\n",
    "def revoke_user(user):\n",
    "    cmd(\"apps-pems-update -u {u} -p NONE $APP_NAME\".format(u=user))\n",
    "    cmd(\"systems-roles-addupdate -r NONE -u {u} $STORAGE_MACHINE\".format(u=user))\n",
    "    cmd(\"systems-roles-addupdate -r NONE -u {u} $EXEC_MACHINE\".format(u=user))\n",
    "    c = cmd([\"metadata-list\",\"-Q\",'{\"name\":\"${EXEC_MACHINE}::queue\"}'])\n",
    "    for line in c[\"stdout\"]:\n",
    "        line = line.strip()\n",
    "        if line != '':\n",
    "            cmd([\"metadata-pems-addupdate\",\"-u\",user,\"-p\",\"NONE\",line])"
   ]
  },
  {
   "cell_type": "code",
   "execution_count": 22,
   "metadata": {},
   "outputs": [
    {
     "name": "stdout",
     "output_type": "stream",
     "text": [
      "Refreshing access token...\r\n",
      "129abda9aeb7b9e49a66fc899187a37\r\n",
      "New token expires: Tue Oct 8 17:14:15 CDT 2019\r\n",
      "No handlers could be found for logger \"agavepy.utils.save_configs\"\r\n"
     ]
    }
   ],
   "source": [
    "!auth-tokens-refresh"
   ]
  },
  {
   "cell_type": "code",
   "execution_count": 23,
   "metadata": {},
   "outputs": [
    {
     "name": "stdout",
     "output_type": "stream",
     "text": [
      "Loading None for ysboss from tacc.prod\r\n",
      "Refreshing access token for crcollaboratory-tapis-shelob-ysboss...\r\n",
      "129abda9aeb7b9e49a66fc899187a37\r\n",
      "No handlers could be found for logger \"agavepy.utils.save_configs\"\r\n"
     ]
    }
   ],
   "source": [
    "!auth-session-init -t tacc.prod -u $AGAVE_USERNAME -p $AGAVE_PASSWD"
   ]
  },
  {
   "cell_type": "code",
   "execution_count": 24,
   "metadata": {},
   "outputs": [
    {
     "name": "stdout",
     "output_type": "stream",
     "text": [
      "cmd: apps-pems-update -u tg457049 -p READ_EXECUTE crcollaboratory-tapis-shelob-ysboss-2.0\n",
      "Successfully updated permission for tg457049\n",
      "cmd: systems-roles-addupdate -r USER -u tg457049 shelob-tapis-storage-ysboss\n",
      "Successfully updated roles for user tg457049 on shelob-tapis-storage-ysboss\n",
      "cmd: systems-roles-addupdate -r USER -u tg457049 shelob-tapis-exec-ysboss\n",
      "Successfully updated roles for user tg457049 on shelob-tapis-exec-ysboss\n",
      "cmd: metadata-list -Q {\"name\":\"shelob-tapis-exec-ysboss::queue\"}\n",
      "6562886709805126121-242ac11a-0001-012\n",
      "cmd: metadata-pems-addupdate -u tg457049 -p READ 6562886709805126121-242ac11a-0001-012\n",
      "Successfully updated permission for tg457049\n"
     ]
    }
   ],
   "source": [
    "grant_user(\"tg457049\")"
   ]
  },
  {
   "cell_type": "code",
   "execution_count": null,
   "metadata": {},
   "outputs": [],
   "source": []
  },
  {
   "cell_type": "code",
   "execution_count": null,
   "metadata": {},
   "outputs": [],
   "source": []
  }
 ],
 "metadata": {
  "kernelspec": {
   "display_name": "Python 3",
   "language": "python",
   "name": "python3"
  },
  "language_info": {
   "codemirror_mode": {
    "name": "ipython",
    "version": 3
   },
   "file_extension": ".py",
   "mimetype": "text/x-python",
   "name": "python",
   "nbconvert_exporter": "python",
   "pygments_lexer": "ipython3",
   "version": "3.6.8"
  }
 },
 "nbformat": 4,
 "nbformat_minor": 2
}
