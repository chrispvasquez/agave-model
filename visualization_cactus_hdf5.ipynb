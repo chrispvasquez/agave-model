{
 "cells": [
  {
   "cell_type": "markdown",
   "metadata": {},
   "source": [
    "# Basic Plotting for Cactus"
   ]
  },
  {
   "cell_type": "code",
   "execution_count": null,
   "metadata": {},
   "outputs": [],
   "source": [
    "%matplotlib notebook"
   ]
  },
  {
   "cell_type": "code",
   "execution_count": null,
   "metadata": {},
   "outputs": [],
   "source": [
    "import os, sys, re, h5py\n",
    "import numpy as np\n",
    "print(\"Cactus files to visualize:\")\n",
    "for file in os.listdir(\"output\"):\n",
    "    if re.match(r'.*\\.h5',file):\n",
    "        print(\" \",file)"
   ]
  },
  {
   "cell_type": "code",
   "execution_count": null,
   "metadata": {},
   "outputs": [],
   "source": [
    "import matplotlib.pyplot as plt\n",
    "print(\"Color Schemes:\")\n",
    "for cm in dir(plt.cm):\n",
    "    if hasattr(getattr(plt.cm,cm),'is_gray'):\n",
    "        print(cm,end=' ')\n",
    "print()\n",
    "\n",
    "# Set the color scheme you wish to use below...\n",
    "global_cmap = plt.cm.rainbow "
   ]
  },
  {
   "cell_type": "code",
   "execution_count": null,
   "metadata": {},
   "outputs": [],
   "source": [
    "from mpl_toolkits.mplot3d import Axes3D\n",
    "\n",
    "def loadh5(fname,tm):\n",
    "    f = h5py.File(\"output/\"+fname)\n",
    "    data = {}\n",
    "    for nm in f:\n",
    "        if not hasattr(f[nm],\"shape\"):\n",
    "            continue\n",
    "        g = re.search(r'it=(\\d+)\\s+tl=\\d+\\s+(rl=\\d+\\s+c=\\d+)',nm)\n",
    "        if g:\n",
    "            it = int(g.group(1))\n",
    "            if it != tm:\n",
    "                continue\n",
    "            data[g.group(2)] = f[nm]\n",
    "    return data\n",
    "\n",
    "# Your basic surface plot\n",
    "def assemble_data(fname,tm):\n",
    "    data = loadh5(fname,tm)\n",
    "    xvals = loadh5(\"x.xy.h5\",0)\n",
    "    yvals = loadh5(\"y.xy.h5\",0)\n",
    "    xs = {}\n",
    "    ys = {}\n",
    "    for nm in data:\n",
    "        for x in np.unique(xvals[nm]):\n",
    "            xs[x] = 0\n",
    "        for y in np.unique(yvals[nm]):\n",
    "            ys[y] = 0\n",
    "    xn = sorted(xs.keys())\n",
    "    yn = sorted(ys.keys())\n",
    "    for i in range(len(xn)):\n",
    "        xs[xn[i]] = i\n",
    "    for j in range(len(yn)):\n",
    "        ys[yn[j]] = j\n",
    "    ndata = np.zeros((len(yn),len(xn)))\n",
    "    nxvals = np.zeros((len(yn),len(xn)))\n",
    "    nyvals = np.zeros((len(yn),len(xn)))\n",
    "    for nm in data:\n",
    "        xl1, xh1 = xs[xvals[nm][0,0]], xs[xvals[nm][-1,-1]]+1\n",
    "        yl1, yh1 = ys[yvals[nm][0,0]], ys[yvals[nm][-1,-1]]+1\n",
    "        ndata[yl1:yh1, xl1:xh1] = data[nm]\n",
    "        nxvals[yl1:yh1, xl1:xh1] = xvals[nm]\n",
    "        nyvals[yl1:yh1, xl1:xh1] = yvals[nm]\n",
    "    return (nxvals, nyvals, ndata)\n",
    "\n",
    "def colorplot(fname,tm):\n",
    "    xvals, yvals, data = assemble_data(fname,tm)\n",
    "    ax = plt.gca()\n",
    "    ax.pcolormesh(xvals,yvals,data,cmap=global_cmap)\n",
    "    plt.show()\n",
    "\n",
    "def surfaceplot(fname,tm):\n",
    "    xvals, yvals, data = assemble_data(fname,tm)\n",
    "    ax = plt.gca(projection='3d')\n",
    "    ax.plot_surface(xvals,yvals,data,cmap=global_cmap)\n",
    "    plt.show()\n",
    "\n",
    "def vectorplot(tm,scale):\n",
    "    x, y, u = assemble_data(\"u.xy.h5\",tm)\n",
    "    x, y, v = assemble_data(\"v.xy.h5\",tm)\n",
    "    c = np.abs(np.arctan2(u,v))\n",
    "    ax = plt.gca()\n",
    "    ax.quiver(x,y,u,v,c,scale=scale)\n",
    "    plt.show()\n",
    "\n",
    "#plt.figure(figsize=(18, 16), dpi= 80)\n",
    "colorplot(\"eta.xy.h5\",0)\n",
    "surfaceplot(\"eta.xy.h5\",0)\n",
    "vectorplot(1,2)"
   ]
  },
  {
   "cell_type": "code",
   "execution_count": null,
   "metadata": {},
   "outputs": [],
   "source": []
  }
 ],
 "metadata": {
  "kernelspec": {
   "display_name": "Python 3",
   "language": "python",
   "name": "python3"
  },
  "language_info": {
   "codemirror_mode": {
    "name": "ipython",
    "version": 3
   },
   "file_extension": ".py",
   "mimetype": "text/x-python",
   "name": "python",
   "nbconvert_exporter": "python",
   "pygments_lexer": "ipython3",
   "version": "3.6.7"
  }
 },
 "nbformat": 4,
 "nbformat_minor": 2
}
